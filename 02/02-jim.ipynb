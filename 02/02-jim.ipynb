{
  "nbformat": 4,
  "nbformat_minor": 0,
  "metadata": {
    "kernelspec": {
      "display_name": "Python 3",
      "language": "python",
      "name": "python3"
    },
    "language_info": {
      "codemirror_mode": {
        "name": "ipython",
        "version": 3
      },
      "file_extension": ".py",
      "mimetype": "text/x-python",
      "name": "python",
      "nbconvert_exporter": "python",
      "pygments_lexer": "ipython3",
      "version": "3.8.5"
    },
    "colab": {
      "name": "02.ipynb",
      "provenance": [],
      "toc_visible": true
    },
    "accelerator": "GPU"
  },
  "cells": [
    {
      "cell_type": "markdown",
      "metadata": {
        "id": "zedVxlEl2AbZ"
      },
      "source": [
        "# Assignment 02"
      ]
    },
    {
      "cell_type": "markdown",
      "metadata": {
        "id": "HaOt4tUD5Lft"
      },
      "source": [
        "Dear students,\n",
        "\n",
        "The second worksheet is now available [here](https://mycampus.imp.fu-berlin.de/portal/directtool/c206efd7-b97b-481e-86e4-7210cd66f639/). You will have time until next Friday, 16:00 MEST.\n",
        "\n",
        "Some torch classes that might come in handy:\n",
        "\n",
        "* [torch.nn.Linear](https://pytorch.org/docs/stable/generated/torch.nn.Linear.html)\n",
        "\n",
        "* [torch.nn.Sequential](https://pytorch.org/docs/stable/generated/torch.nn.Sequential.html)\n",
        "\n",
        "* [torch.nn.Softmax](https://pytorch.org/docs/stable/generated/torch.nn.Softmax.html?highlight=softmax#torch.nn.Softmax) (for \"one-hot encoding\")\n",
        "\n",
        "Best,\n",
        "Your tutors"
      ]
    },
    {
      "cell_type": "markdown",
      "metadata": {
        "id": "iU14KQ0d5a1p"
      },
      "source": [
        "You are given MNIST-type training data of images with handwritten digits. The data consists of training images with associated labels in $\\{0,1,\\dots,9\\}$ and an unlabeled test set.\n",
        "\n",
        "Your task is to train a neural network model of your choice to predict the digit from the image.\n",
        "\n",
        "As a submission, please upload the prediction of digits for the test set exactly as shown below.\n",
        "\n",
        "For this prediction, we will use the following grading scheme:\n",
        "\n",
        "| accuracy | points |\n",
        "|----------|--------|\n",
        "| ≥50%     | 5      |\n",
        "| ≥75%     | 7      |\n",
        "| ≥90%     | 10     |\n",
        " \n",
        "\n",
        "If you present your work in the tutorial, be prepared to show your code, explain how you prepared the data, how you chose the network architecture and other hyperparameters, how you validated the model, and show the convergence of the training error.\n",
        "\n",
        "\n",
        "To load and visualize the data, please refer to the following code:"
      ]
    },
    {
      "cell_type": "markdown",
      "metadata": {
        "id": "fCN4jOFFVXmS"
      },
      "source": [
        "## Load data"
      ]
    },
    {
      "cell_type": "code",
      "metadata": {
        "colab": {
          "base_uri": "https://localhost:8080/",
          "height": 332
        },
        "id": "fxlDCNYO2Abb",
        "outputId": "7a0a9321-6fd4-4047-d2bb-08d7070fc7e6"
      },
      "source": [
        "import io\n",
        "\n",
        "import requests\n",
        "import numpy as np\n",
        "import matplotlib.pyplot as plt\n",
        "\n",
        "\n",
        "response = requests.get('https://github.com/jneuendorf/deeplearning-lecture-21/blob/main/02/prediction-challenge-01-data.npz?raw=true')\n",
        "with np.load(io.BytesIO(response.content)) as fh:\n",
        "    data_x = fh['data_x']\n",
        "    data_y = fh['data_y']\n",
        "    test_x = fh['test_x']\n",
        "\n",
        "# TRAINING DATA: INPUT (x) AND OUTPUT (y)\n",
        "# 1. INDEX: IMAGE SERIAL NUMBER\n",
        "# 2. INDEX: COLOR CHANNEL\n",
        "# 3/4. INDEX: PIXEL VALUE\n",
        "print(data_x.shape, data_x.dtype)\n",
        "print(data_y.shape, data_y.dtype)\n",
        "\n",
        "# TEST DATA: INPUT (x) ONLY\n",
        "print(test_x.shape, test_x.dtype)\n",
        "\n",
        "N, CHANNELS, WIDTH, HEIGHT = data_x.shape\n",
        "\n",
        "\n",
        "plt.imshow(data_x[0, 0])\n",
        "plt.title(f'label={data_y[0]}')\n",
        "plt.show()"
      ],
      "execution_count": 119,
      "outputs": [
        {
          "output_type": "stream",
          "text": [
            "(20000, 1, 28, 28) float32\n",
            "(20000,) int64\n",
            "(2000, 1, 28, 28) float32\n"
          ],
          "name": "stdout"
        },
        {
          "output_type": "display_data",
          "data": {
            "image/png": "[encoded data removed]",
            "text/plain": [
              "<Figure size 432x288 with 1 Axes>"
            ]
          },
          "metadata": {
            "tags": [],
            "needs_background": "light"
          }
        }
      ]
    },
    {
      "cell_type": "markdown",
      "metadata": {
        "id": "V6hLrTIx2Abb"
      },
      "source": [
        "---"
      ]
    },
    {
      "cell_type": "markdown",
      "metadata": {
        "id": "a5MD-j1VLLjh"
      },
      "source": [
        "## Define model"
      ]
    },
    {
      "cell_type": "code",
      "metadata": {
        "colab": {
          "base_uri": "https://localhost:8080/"
        },
        "id": "aOMZHMskLH5D",
        "outputId": "3c3a97ee-bd24-4ea7-e4f5-db9f761d3638"
      },
      "source": [
        "import matplotlib.pyplot as plt\n",
        "from sklearn.model_selection import train_test_split\n",
        "import torch\n",
        "import torch.nn as nn\n",
        "import torch.nn.functional as F\n",
        "\n",
        "\n",
        "device = 'cuda' if torch.cuda.is_available() else 'cpu'\n",
        "print('Using {} device'.format(device))\n",
        "\n",
        "\n",
        "class Mnist(nn.Module):\n",
        "    def __init__(self, width=WIDTH, height=HEIGHT):\n",
        "        super().__init__()\n",
        "        self.stack = nn.Sequential(\n",
        "            nn.Flatten(),\n",
        "            nn.Linear(width * height, 512),\n",
        "            nn.ReLU(),\n",
        "            nn.Linear(512, 512),\n",
        "            nn.ReLU(),\n",
        "            nn.Linear(512, 10),\n",
        "            # nn.ReLU(),\n",
        "            # nn.Softmax(dim=1),\n",
        "        )\n",
        "\n",
        "    def forward(self, x):\n",
        "        return self.stack(x)\n"
      ],
      "execution_count": 120,
      "outputs": [
        {
          "output_type": "stream",
          "text": [
            "Using cuda device\n"
          ],
          "name": "stdout"
        }
      ]
    },
    {
      "cell_type": "markdown",
      "metadata": {
        "id": "KHF4gYPHVeUZ"
      },
      "source": [
        "## Train model"
      ]
    },
    {
      "cell_type": "code",
      "metadata": {
        "colab": {
          "base_uri": "https://localhost:8080/"
        },
        "id": "3dGHqxtX8TGv",
        "outputId": "ca8121ef-b8fc-47f4-a30a-2e9b6378d06b"
      },
      "source": [
        "import matplotlib.pyplot as plt\n",
        "from sklearn.model_selection import train_test_split\n",
        "import torch\n",
        "import torch.nn as nn\n",
        "import torch.nn.functional as F\n",
        "\n",
        "\n",
        "model = Mnist().to(device)\n",
        "print()\n",
        "print(model)\n",
        "\n",
        "\n",
        "# Prepare data\n",
        "X_train, X_test, y_train, y_test = train_test_split(\n",
        "    torch.tensor(data_x.reshape((data_x.shape[0], -1)), device=device), \n",
        "    torch.tensor(data_y, device=device), \n",
        "    test_size=0.2,\n",
        ")\n",
        "\n",
        "\n",
        "LR = 1e-3\n",
        "EPOCHS = 1500\n",
        "\n",
        "loss_function = nn.CrossEntropyLoss()\n",
        "optim = torch.optim.Adam(params=model.parameters(), lr=LR)\n",
        "\n",
        "\n",
        "# TODO: Try minibatch?\n",
        "\n",
        "# batch\n",
        "for epoch in range(EPOCHS):\n",
        "    # Compute prediction and loss\n",
        "    pred = model(X_train)\n",
        "    loss = loss_function(pred, y_train)\n",
        "\n",
        "    # Backpropagation\n",
        "    optim.zero_grad()\n",
        "    loss.backward()\n",
        "    optim.step()\n",
        "\n",
        "    if epoch % 100 == 0:\n",
        "        print(f'Epoch [{epoch + 1}/{EPOCHS}], Loss: {loss.item()}')\n"
      ],
      "execution_count": 152,
      "outputs": [
        {
          "output_type": "stream",
          "text": [
            "\n",
            "Mnist(\n",
            "  (stack): Sequential(\n",
            "    (0): Flatten(start_dim=1, end_dim=-1)\n",
            "    (1): Linear(in_features=784, out_features=512, bias=True)\n",
            "    (2): ReLU()\n",
            "    (3): Linear(in_features=512, out_features=512, bias=True)\n",
            "    (4): ReLU()\n",
            "    (5): Linear(in_features=512, out_features=10, bias=True)\n",
            "  )\n",
            ")\n",
            "Epoch [1/1500], Loss: 13.239827156066895\n",
            "Epoch [101/1500], Loss: 0.03404292091727257\n",
            "Epoch [201/1500], Loss: 0.0031812558881938457\n",
            "Epoch [301/1500], Loss: 0.0009742943802848458\n",
            "Epoch [401/1500], Loss: 0.000481240771478042\n",
            "Epoch [501/1500], Loss: 0.00028618911164812744\n",
            "Epoch [601/1500], Loss: 0.00018847368482965976\n",
            "Epoch [701/1500], Loss: 0.00013292171934153885\n",
            "Epoch [801/1500], Loss: 9.837425750447437e-05\n",
            "Epoch [901/1500], Loss: 7.557174103567377e-05\n",
            "Epoch [1001/1500], Loss: 5.968150435364805e-05\n",
            "Epoch [1101/1500], Loss: 4.80682028864976e-05\n",
            "Epoch [1201/1500], Loss: 3.9443148125428706e-05\n",
            "Epoch [1301/1500], Loss: 3.29113427142147e-05\n",
            "Epoch [1401/1500], Loss: 2.7806499929283746e-05\n"
          ],
          "name": "stdout"
        }
      ]
    },
    {
      "cell_type": "markdown",
      "metadata": {
        "id": "Q0ZmiJmUVicE"
      },
      "source": [
        "## Test model"
      ]
    },
    {
      "cell_type": "code",
      "metadata": {
        "colab": {
          "base_uri": "https://localhost:8080/"
        },
        "id": "vkLmR71iVk2Q",
        "outputId": "bfdd75e3-9d4b-4196-e7a3-9758eaebad4e"
      },
      "source": [
        "with torch.no_grad():\n",
        "    print(X_test.shape)\n",
        "    outs = model(X_test)\n",
        "    _, predicted = torch.max(outs.data, 1)\n",
        "    total = X_test.size(0)\n",
        "    print(predicted.shape, y_test.shape)\n",
        "    print(predicted, y_test)\n",
        "    correct = (predicted == y_test).sum().item()\n",
        "    print(f'Accuracy: {100 * correct / total}%')"
      ],
      "execution_count": 153,
      "outputs": [
        {
          "output_type": "stream",
          "text": [
            "torch.Size([4000, 784])\n",
            "torch.Size([4000]) torch.Size([4000])\n",
            "tensor([0, 8, 1,  ..., 4, 4, 1], device='cuda:0') tensor([0, 2, 1,  ..., 4, 4, 1], device='cuda:0')\n",
            "Accuracy: 95.65%\n"
          ],
          "name": "stdout"
        }
      ]
    },
    {
      "cell_type": "markdown",
      "metadata": {
        "id": "Yd45o6DP6BiZ"
      },
      "source": [
        "## Export"
      ]
    },
    {
      "cell_type": "markdown",
      "metadata": {
        "id": "PAEMNkwy6LEZ"
      },
      "source": [
        "Use your trained model to predict the digits for the test data. Store the prediction as shown in the code snippet below and upload your prediction file.\n",
        "\n",
        "Please note that you need to use exactly the shown file format, file name, and array shape as shown in the code snippet. Otherwise, we might not be able to correctly process your submission."
      ]
    },
    {
      "cell_type": "code",
      "metadata": {
        "colab": {
          "base_uri": "https://localhost:8080/",
          "height": 390
        },
        "id": "ENwp0Nlz6NWz",
        "outputId": "5364be70-d4d9-4ba0-fbde-51c8a0ccdd6c"
      },
      "source": [
        "import math\n",
        "\n",
        "import numpy as np\n",
        "import torch\n",
        "\n",
        "\n",
        "print('test data shape', test_x.shape)\n",
        "test_x_tensor = torch.tensor(test_x.reshape((test_x.shape[0], -1)), device=device)\n",
        "\n",
        "\n",
        "# def fullprint(*args, **kwargs):\n",
        "#     from pprint import pprint\n",
        "#     import numpy\n",
        "#     opt = numpy.get_printoptions()\n",
        "#     numpy.set_printoptions(threshold=numpy.inf)\n",
        "#     pprint(*args, **kwargs)\n",
        "#     numpy.set_printoptions(**opt)\n",
        "\n",
        "\n",
        "# Final test for `test_x` from the 1st cell\n",
        "with torch.no_grad():\n",
        "    print(test_x_tensor.shape)\n",
        "    # outs = model(test_x_tensor)\n",
        "    # _, predicted = torch.max(outs.data, 1)\n",
        "\n",
        "    prediction_raw = model(test_x_tensor)\n",
        "    # Transform 10-element output tensors to the digits that they represent\n",
        "    prediction = prediction_raw.argmax(dim=1)\n",
        "    # print(prediction)\n",
        "\n",
        "    SAMPLE_SIZE = 20\n",
        "    N_COLS = 6\n",
        "    indices = np.random.choice(test_x.shape[0], size=SAMPLE_SIZE, replace=False)\n",
        "    # print('sample indices', indices)\n",
        "    test_x_sample = test_x[indices]\n",
        "    # fullprint(test_x_sample.astype(int), width=300, compact=False)\n",
        "    prediction_sample = prediction[indices]\n",
        "    # print('test sample', test_x_sample.shape, test_x_sample)\n",
        "    fig = plt.figure(figsize=(14, 5))\n",
        "    for i, x in enumerate(test_x_sample):\n",
        "        plt.subplot(math.ceil(SAMPLE_SIZE / N_COLS), N_COLS, i + 1)\n",
        "        plt.tight_layout()\n",
        "        plt.imshow(x[0], cmap='gray', interpolation='none')\n",
        "        plt.title(f'prediction={prediction[i]}')\n",
        "        plt.xticks([])\n",
        "        plt.yticks([])\n",
        "        # print(prediction[i])\n",
        "\n",
        "\n",
        "# MAKE SURE THAT YOU HAVE THE RIGHT FORMAT\n",
        "assert prediction.ndim == 1 and prediction.shape[0] == 2000, 'Prediction tensor must have shape ([2000])'\n",
        "\n",
        "# AND SAVE EXACTLY AS SHOWN BELOW\n",
        "# np.save('prediction.npy', prediction)"
      ],
      "execution_count": 156,
      "outputs": [
        {
          "output_type": "stream",
          "text": [
            "test data shape (2000, 1, 28, 28)\n",
            "torch.Size([2000, 784])\n"
          ],
          "name": "stdout"
        },
        {
          "output_type": "display_data",
          "data": {
            "image/png": "[encoded data removed]",
            "text/plain": [
              "<Figure size 1008x360 with 20 Axes>"
            ]
          },
          "metadata": {
            "tags": []
          }
        }
      ]
    }
  ]
}
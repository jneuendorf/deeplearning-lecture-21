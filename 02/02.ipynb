{
  "nbformat": 4,
  "nbformat_minor": 0,
  "metadata": {
    "kernelspec": {
      "display_name": "Python 3",
      "language": "python",
      "name": "python3"
    },
    "language_info": {
      "codemirror_mode": {
        "name": "ipython",
        "version": 3
      },
      "file_extension": ".py",
      "mimetype": "text/x-python",
      "name": "python",
      "nbconvert_exporter": "python",
      "pygments_lexer": "ipython3",
      "version": "3.8.5"
    },
    "colab": {
      "name": "02.ipynb",
      "provenance": [],
      "toc_visible": true
    },
    "accelerator": "GPU"
  },
  "cells": [
    {
      "cell_type": "markdown",
      "metadata": {
        "id": "zedVxlEl2AbZ"
      },
      "source": [
        "# Assignment 02"
      ]
    },
    {
      "cell_type": "markdown",
      "metadata": {
        "id": "HaOt4tUD5Lft"
      },
      "source": [
        "Dear students,\n",
        "\n",
        "The second worksheet is now available [here](https://mycampus.imp.fu-berlin.de/portal/directtool/c206efd7-b97b-481e-86e4-7210cd66f639/). You will have time until next Friday, 16:00 MEST.\n",
        "\n",
        "Some torch classes that might come in handy:\n",
        "\n",
        "* [torch.nn.Linear](https://pytorch.org/docs/stable/generated/torch.nn.Linear.html)\n",
        "\n",
        "* [torch.nn.Sequential](https://pytorch.org/docs/stable/generated/torch.nn.Sequential.html)\n",
        "\n",
        "* [torch.nn.Softmax](https://pytorch.org/docs/stable/generated/torch.nn.Softmax.html?highlight=softmax#torch.nn.Softmax) (for \"one-hot encoding\")\n",
        "\n",
        "Best,\n",
        "Your tutors"
      ]
    },
    {
      "cell_type": "markdown",
      "metadata": {
        "id": "iU14KQ0d5a1p"
      },
      "source": [
        "You are given MNIST-type training data of images with handwritten digits. The data consists of training images with associated labels in $\\{0,1,\\dots,9\\}$ and an unlabeled test set.\n",
        "\n",
        "Your task is to train a neural network model of your choice to predict the digit from the image.\n",
        "\n",
        "As a submission, please upload the prediction of digits for the test set exactly as shown below.\n",
        "\n",
        "For this prediction, we will use the following grading scheme:\n",
        "\n",
        "| accuracy | points |\n",
        "|----------|--------|\n",
        "| ≥50%     | 5      |\n",
        "| ≥75%     | 7      |\n",
        "| ≥90%     | 10     |\n",
        " \n",
        "\n",
        "If you present your work in the tutorial, be prepared to show your code, explain how you prepared the data, how you chose the network architecture and other hyperparameters, how you validated the model, and show the convergence of the training error.\n",
        "\n",
        "\n",
        "To load and visualize the data, please refer to the following code:"
      ]
    },
    {
      "cell_type": "code",
      "metadata": {
        "id": "fxlDCNYO2Abb",
        "outputId": "1b1738f6-a362-4e10-844b-786d8bf76371",
        "colab": {
          "base_uri": "https://localhost:8080/",
          "height": 332
        }
      },
      "source": [
        "import io\n",
        "\n",
        "import requests\n",
        "import numpy as np\n",
        "import matplotlib.pyplot as plt\n",
        "\n",
        "\n",
        "response = requests.get('https://github.com/jneuendorf/deeplearning-lecture-21/blob/main/02/prediction-challenge-01-data.npz?raw=true')\n",
        "with np.load(io.BytesIO(response.content)) as fh:\n",
        "    data_x = fh['data_x']\n",
        "    data_y = fh['data_y']\n",
        "    test_x = fh['test_x']\n",
        "\n",
        "# TRAINING DATA: INPUT (x) AND OUTPUT (y)\n",
        "# 1. INDEX: IMAGE SERIAL NUMBER\n",
        "# 2. INDEX: COLOR CHANNEL\n",
        "# 3/4. INDEX: PIXEL VALUE\n",
        "print(data_x.shape, data_x.dtype)\n",
        "print(data_y.shape, data_y.dtype)\n",
        "\n",
        "# TEST DATA: INPUT (x) ONLY\n",
        "print(test_x.shape, test_x.dtype)\n",
        "\n",
        "plt.imshow(data_x[0, 0])\n",
        "plt.title(data_y[0])\n",
        "plt.show()"
      ],
      "execution_count": 8,
      "outputs": [
        {
          "output_type": "stream",
          "text": [
            "(20000, 1, 28, 28) float32\n",
            "(20000,) int64\n",
            "(2000, 1, 28, 28) float32\n"
          ],
          "name": "stdout"
        },
        {
          "output_type": "display_data",
          "data": {
            "image/png": "[encoded data removed]",
            "text/plain": [
              "<Figure size 432x288 with 1 Axes>"
            ]
          },
          "metadata": {
            "tags": [],
            "needs_background": "light"
          }
        }
      ]
    },
    {
      "cell_type": "markdown",
      "metadata": {
        "id": "V6hLrTIx2Abb"
      },
      "source": [
        "---"
      ]
    },
    {
      "cell_type": "markdown",
      "metadata": {
        "id": "nQyBLt2t2Abb"
      },
      "source": [
        "## Check CUDA support (not necessary for this course)"
      ]
    },
    {
      "cell_type": "markdown",
      "metadata": {
        "id": "noQeysKd2Abc"
      },
      "source": [
        "Let's test now whether you installed PyTorch with GPU support (won't be the case if you run it on a machine without NVIDIA GPU)."
      ]
    },
    {
      "cell_type": "code",
      "metadata": {
        "id": "WBBPG_N_2Abc",
        "outputId": "95683127-9341-4cf9-d164-629f95de15ae",
        "colab": {
          "base_uri": "https://localhost:8080/"
        }
      },
      "source": [
        "try:\n",
        "    x = torch.zeros(5).cuda()\n",
        "    print(\"gpu support works\")\n",
        "except:\n",
        "    print(\"no gpu found or pytorch has been installed without cuda support\")"
      ],
      "execution_count": 3,
      "outputs": [
        {
          "output_type": "stream",
          "text": [
            "gpu support works\n"
          ],
          "name": "stdout"
        }
      ]
    },
    {
      "cell_type": "markdown",
      "metadata": {
        "id": "QNCpLED22Abc"
      },
      "source": [
        "---"
      ]
    },
    {
      "cell_type": "markdown",
      "metadata": {
        "id": "ifBVaSvN58BQ"
      },
      "source": [
        ""
      ]
    },
    {
      "cell_type": "markdown",
      "metadata": {
        "id": "Yd45o6DP6BiZ"
      },
      "source": [
        "## Export"
      ]
    },
    {
      "cell_type": "markdown",
      "metadata": {
        "id": "PAEMNkwy6LEZ"
      },
      "source": [
        "Use your trained model to predict the digits for the test data. Store the prediction as shown in the code snippet below and upload your prediction file.\n",
        "\n",
        "Please note that you need to use exactly the shown file format, file name, and array shape as shown in the code snippet. Otherwise, we might not be able to correctly process your submission."
      ]
    },
    {
      "cell_type": "code",
      "metadata": {
        "id": "ENwp0Nlz6NWz",
        "outputId": "f4b078cf-7760-4065-8b97-2f7cce73906e",
        "colab": {
          "base_uri": "https://localhost:8080/"
        }
      },
      "source": [
        "import numpy as np\n",
        "import torch\n",
        "\n",
        "\n",
        "prediction = torch.zeros(2000)  # THAT'S YOUR JOB\n",
        "print(prediction.ndim)\n",
        "\n",
        "# MAKE SURE THAT YOU HAVE THE RIGHT FORMAT\n",
        "assert prediction.ndim == 1\n",
        "assert prediction.shape[0] == 2000\n",
        "\n",
        "# AND SAVE EXACTLY AS SHOWN BELOW\n",
        "np.save('prediction.npy', prediction)"
      ],
      "execution_count": 15,
      "outputs": [
        {
          "output_type": "stream",
          "text": [
            "1\n"
          ],
          "name": "stdout"
        }
      ]
    }
  ]
}